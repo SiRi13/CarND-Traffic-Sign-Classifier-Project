{
 "cells": [
  {
   "cell_type": "markdown",
   "metadata": {
    "deletable": true,
    "editable": true
   },
   "source": [
    "# Self-Driving Car Engineer Nanodegree\n",
    "\n",
    "## Deep Learning\n",
    "\n",
    "## Project: Build a Traffic Sign Recognition Classifier\n",
    "\n",
    "In this notebook, a template is provided for you to implement your functionality in stages, which is required to successfully complete this project. If additional code is required that cannot be included in the notebook, be sure that the Python code is successfully imported and included in your submission if necessary. \n",
    "\n",
    "> **Note**: Once you have completed all of the code implementations, you need to finalize your work by exporting the iPython Notebook as an HTML document. Before exporting the notebook to html, all of the code cells need to have been run so that reviewers can see the final implementation and output. You can then export the notebook by using the menu above and navigating to  \\n\",\n",
    "    \"**File -> Download as -> HTML (.html)**. Include the finished document along with this notebook as your submission. \n",
    "\n",
    "In addition to implementing code, there is a writeup to complete. The writeup should be completed in a separate file, which can be either a markdown file or a pdf document. There is a [write up template](https://github.com/udacity/CarND-Traffic-Sign-Classifier-Project/blob/master/writeup_template.md) that can be used to guide the writing process. Completing the code template and writeup template will cover all of the [rubric points](https://review.udacity.com/#!/rubrics/481/view) for this project.\n",
    "\n",
    "The [rubric](https://review.udacity.com/#!/rubrics/481/view) contains \"Stand Out Suggestions\" for enhancing the project beyond the minimum requirements. The stand out suggestions are optional. If you decide to pursue the \"stand out suggestions\", you can include the code in this Ipython notebook and also discuss the results in the writeup file.\n",
    "\n",
    "\n",
    ">**Note:** Code and Markdown cells can be executed using the **Shift + Enter** keyboard shortcut. In addition, Markdown cells can be edited by typically double-clicking the cell to enter edit mode."
   ]
  },
  {
   "cell_type": "markdown",
   "metadata": {
    "deletable": true,
    "editable": true
   },
   "source": [
    "---\n",
    "## Step 0: Load The Data"
   ]
  },
  {
   "cell_type": "code",
   "execution_count": null,
   "metadata": {
    "collapsed": false,
    "deletable": true,
    "editable": true
   },
   "outputs": [],
   "source": [
    "# Load pickled data\n",
    "import pickle\n",
    "\n",
    "# TODO: Fill this in based on where you saved the training and testing data\n",
    "\n",
    "training_file = './data/train.p'\n",
    "validation_file= './data/valid.p'\n",
    "testing_file = './data/test.p'\n",
    "\n",
    "with open(training_file, mode='rb') as f:\n",
    "    train = pickle.load(f)\n",
    "with open(validation_file, mode='rb') as f:\n",
    "    valid = pickle.load(f)\n",
    "with open(testing_file, mode='rb') as f:\n",
    "    test = pickle.load(f)\n",
    "    \n",
    "X_train, y_train = train['features'], train['labels']\n",
    "X_valid, y_valid = valid['features'], valid['labels']\n",
    "X_test, y_test = test['features'], test['labels']\n",
    "\n",
    "images_normalized = False\n",
    "training_set_balanced = False"
   ]
  },
  {
   "cell_type": "markdown",
   "metadata": {
    "deletable": true,
    "editable": true
   },
   "source": [
    "---\n",
    "\n",
    "## Step 1: Dataset Summary & Exploration\n",
    "\n",
    "The pickled data is a dictionary with 4 key/value pairs:\n",
    "\n",
    "- `'features'` is a 4D array containing raw pixel data of the traffic sign images, (num examples, width, height, channels).\n",
    "- `'labels'` is a 1D array containing the label/class id of the traffic sign. The file `signnames.csv` contains id -> name mappings for each id.\n",
    "- `'sizes'` is a list containing tuples, (width, height) representing the original width and height the image.\n",
    "- `'coords'` is a list containing tuples, (x1, y1, x2, y2) representing coordinates of a bounding box around the sign in the image. **THESE COORDINATES ASSUME THE ORIGINAL IMAGE. THE PICKLED DATA CONTAINS RESIZED VERSIONS (32 by 32) OF THESE IMAGES**\n",
    "\n",
    "Complete the basic data summary below. Use python, numpy and/or pandas methods to calculate the data summary rather than hard coding the results. For example, the [pandas shape method](http://pandas.pydata.org/pandas-docs/stable/generated/pandas.DataFrame.shape.html) might be useful for calculating some of the summary results. "
   ]
  },
  {
   "cell_type": "markdown",
   "metadata": {
    "deletable": true,
    "editable": true
   },
   "source": [
    "### Provide a Basic Summary of the Data Set Using Python, Numpy and/or Pandas"
   ]
  },
  {
   "cell_type": "code",
   "execution_count": null,
   "metadata": {
    "collapsed": false,
    "deletable": true,
    "editable": true
   },
   "outputs": [],
   "source": [
    "import numpy as np\n",
    "import pandas as pd"
   ]
  },
  {
   "cell_type": "code",
   "execution_count": null,
   "metadata": {
    "collapsed": false,
    "deletable": true,
    "editable": true
   },
   "outputs": [],
   "source": [
    "### Replace each question mark with the appropriate value. \n",
    "### Use python, pandas or numpy methods rather than hard coding the results\n",
    "\n",
    "# TODO: Number of training examples\n",
    "n_train = np.size(train.get('labels'))\n",
    "\n",
    "# TODO: Number of testing examples.\n",
    "n_test = np.size(test.get('labels'))\n",
    "\n",
    "# TODO: What's the shape of an traffic sign image?\n",
    "image_shape = train['features'].shape[1:]\n",
    "\n",
    "# TODO: How many unique classes/labels there are in the dataset.\n",
    "n_classes = np.unique(train.get('labels')).size\n",
    "\n",
    "print(\"Number of training examples =\", n_train)\n",
    "print(\"Number of testing examples =\", n_test)\n",
    "print(\"Image data shape =\", image_shape)\n",
    "print(\"Number of classes =\", n_classes)"
   ]
  },
  {
   "cell_type": "code",
   "execution_count": null,
   "metadata": {
    "collapsed": true,
    "deletable": true,
    "editable": true
   },
   "outputs": [],
   "source": [
    "assert(len(X_train) == len(y_train))\n",
    "assert(len(X_valid) == len(y_valid))\n",
    "assert(len(X_test) == len(y_test))"
   ]
  },
  {
   "cell_type": "markdown",
   "metadata": {
    "deletable": true,
    "editable": true
   },
   "source": [
    "### Include an exploratory visualization of the dataset"
   ]
  },
  {
   "cell_type": "markdown",
   "metadata": {
    "deletable": true,
    "editable": true
   },
   "source": [
    "Visualize the German Traffic Signs Dataset using the pickled file(s). This is open ended, suggestions include: plotting traffic sign images, plotting the count of each sign, etc.\n",
    "\n",
    "The [Matplotlib](http://matplotlib.org/) [examples](http://matplotlib.org/examples/index.html) and [gallery](http://matplotlib.org/gallery.html) pages are a great resource for doing visualizations in Python.\n",
    "\n",
    "**NOTE:** It's recommended you start with something simple first. If you wish to do more, come back to it after you've completed the rest of the sections."
   ]
  },
  {
   "cell_type": "code",
   "execution_count": null,
   "metadata": {
    "collapsed": false,
    "deletable": true,
    "editable": true
   },
   "outputs": [],
   "source": [
    "### Data exploration visualization code goes here.\n",
    "### Feel free to use as many code cells as needed.\n",
    "import matplotlib.pyplot as plt\n",
    "import random\n",
    "# Visualizations will be shown in the notebook.\n",
    "%matplotlib inline\n",
    "\n",
    "signnames = pd.read_csv('./signnames.csv')\n",
    "signnames.SignName.sample(n=5)"
   ]
  },
  {
   "cell_type": "code",
   "execution_count": null,
   "metadata": {
    "collapsed": false,
    "deletable": true,
    "editable": true
   },
   "outputs": [],
   "source": [
    "# backup original images for displaying\n",
    "X_train_org = np.copy(X_train)\n",
    "y_train_org = np.copy(y_train)\n",
    "y_train_pd = pd.DataFrame(y_train, columns=['index'])\n",
    "\n",
    "y_train_group = y_train_pd.groupby('index')\n",
    "y_train_group.groups.keys()"
   ]
  },
  {
   "cell_type": "markdown",
   "metadata": {
    "deletable": true,
    "editable": true
   },
   "source": [
    "### Thumbnails"
   ]
  },
  {
   "cell_type": "code",
   "execution_count": null,
   "metadata": {
    "collapsed": false,
    "deletable": true,
    "editable": true
   },
   "outputs": [],
   "source": [
    "plt.figure(figsize=(15,10))\n",
    "for i in range(1,n_classes+1):\n",
    "    # get random image from train set\n",
    "    index = y_train_group.groups.get(i-1)[np.random.randint(0, len(y_train_group.groups.get(i-1)))]\n",
    "    image = X_train_org[index].squeeze()\n",
    "    # get label for image from signnames\n",
    "    label = \"{}\".format(y_train[index])\n",
    "    # create subplot\n",
    "    plt.subplot(7, 7, i)\n",
    "    plt.title(label)\n",
    "    plt.xlabel(signnames.SignName[y_train[index]])\n",
    "    plt.imshow(image)\n",
    "    \n",
    "plt.tight_layout()\n",
    "plt.savefig('./images/signs_overview.png', bbox_inches='tight')\n",
    "del index, image, label"
   ]
  },
  {
   "cell_type": "markdown",
   "metadata": {
    "deletable": true,
    "editable": true
   },
   "source": [
    "### Distribution"
   ]
  },
  {
   "cell_type": "code",
   "execution_count": null,
   "metadata": {
    "collapsed": false,
    "deletable": true,
    "editable": true
   },
   "outputs": [],
   "source": [
    "# Count of Images per Type in Train set\n",
    "fig = plt.figure(figsize=(16,5))\n",
    "plt.axis([-1, 43, 0, np.max(np.bincount(y_train)) + 50])\n",
    "plt.hist(y_train, n_classes, color='green', rwidth=0.8)\n",
    "plt.title('Train dataset')\n",
    "plt.xlabel('Class ID')\n",
    "plt.ylabel('# of Images')\n",
    "\n",
    "plt.savefig('./images/distribution.png', bbox_inches='tight')"
   ]
  },
  {
   "cell_type": "markdown",
   "metadata": {
    "deletable": true,
    "editable": true
   },
   "source": [
    "----\n",
    "\n",
    "## Step 2: Design and Test a Model Architecture\n",
    "\n",
    "Design and implement a deep learning model that learns to recognize traffic signs. Train and test your model on the [German Traffic Sign Dataset](http://benchmark.ini.rub.de/?section=gtsrb&subsection=dataset).\n",
    "\n",
    "The LeNet-5 implementation shown in the [classroom](https://classroom.udacity.com/nanodegrees/nd013/parts/fbf77062-5703-404e-b60c-95b78b2f3f9e/modules/6df7ae49-c61c-4bb2-a23e-6527e69209ec/lessons/601ae704-1035-4287-8b11-e2c2716217ad/concepts/d4aca031-508f-4e0b-b493-e7b706120f81) at the end of the CNN lesson is a solid starting point. You'll have to change the number of classes and possibly the preprocessing, but aside from that it's plug and play! \n",
    "\n",
    "With the LeNet-5 solution from the lecture, you should expect a validation set accuracy of about 0.89. To meet specifications, the validation set accuracy will need to be at least 0.93. It is possible to get an even higher accuracy, but 0.93 is the minimum for a successful project submission. \n",
    "\n",
    "There are various aspects to consider when thinking about this problem:\n",
    "\n",
    "- Neural network architecture (is the network over or underfitting?)\n",
    "- Play around preprocessing techniques (normalization, rgb to grayscale, etc)\n",
    "- Number of examples per label (some have more than others).\n",
    "- Generate fake data.\n",
    "\n",
    "Here is an example of a [published baseline model on this problem](http://yann.lecun.com/exdb/publis/pdf/sermanet-ijcnn-11.pdf). It's not required to be familiar with the approach used in the paper but, it's good practice to try to read papers like these."
   ]
  },
  {
   "cell_type": "markdown",
   "metadata": {
    "deletable": true,
    "editable": true
   },
   "source": [
    "### Pre-process the Data Set (normalization, grayscale, etc.)"
   ]
  },
  {
   "cell_type": "markdown",
   "metadata": {
    "deletable": true,
    "editable": true
   },
   "source": [
    "Use the code cell (or multiple code cells, if necessary) to implement the first step of your project."
   ]
  },
  {
   "cell_type": "code",
   "execution_count": null,
   "metadata": {
    "collapsed": true,
    "deletable": true,
    "editable": true
   },
   "outputs": [],
   "source": [
    "# Preprocess the data here. Preprocessing steps could include normalization, converting to grayscale, etc.\n",
    "### Feel free to use as many code cells as needed.\n",
    "\n",
    "from sklearn.utils import shuffle\n",
    "import cv2"
   ]
  },
  {
   "cell_type": "code",
   "execution_count": null,
   "metadata": {
    "collapsed": true,
    "deletable": true,
    "editable": true
   },
   "outputs": [],
   "source": [
    "def random_rotation(image, α):\n",
    "    image_center = tuple(np.array(image.shape[:2])/2)\n",
    "    rotation_matrix = cv2.getRotationMatrix2D(image_center, α, 1.0)\n",
    "    retVal = cv2.warpAffine(image, rotation_matrix, tuple(image.shape[:2]), flags=cv2.INTER_LINEAR)\n",
    "    \n",
    "    del image_center, rotation_matrix\n",
    "    return retVal"
   ]
  },
  {
   "cell_type": "code",
   "execution_count": null,
   "metadata": {
    "collapsed": true,
    "deletable": true,
    "editable": true
   },
   "outputs": [],
   "source": [
    "def gaussian_blur(image, kernel):\n",
    "    retVal = cv2.GaussianBlur(image, (kernel, kernel), 0)\n",
    "    return retVal"
   ]
  },
  {
   "cell_type": "code",
   "execution_count": null,
   "metadata": {
    "collapsed": true,
    "deletable": true,
    "editable": true
   },
   "outputs": [],
   "source": [
    "def equalize_Histogram_Y(image):\n",
    "    image = cv2.cvtColor(image, cv2.COLOR_BGR2YUV)\n",
    "    image[:,:,0] = cv2.equalizeHist(image[:,:,0])\n",
    "    return cv2.cvtColor(image, cv2.COLOR_YUV2BGR)"
   ]
  },
  {
   "cell_type": "code",
   "execution_count": null,
   "metadata": {
    "collapsed": true,
    "deletable": true,
    "editable": true
   },
   "outputs": [],
   "source": [
    "def random_translation(image, threshold):\n",
    "    randX, randY = np.random.uniform(-threshold, threshold, 2)\n",
    "    \n",
    "    translation_matrix = np.float32([[1,0,randX], [0,1,randY]])\n",
    "    retVal = cv2.warpAffine(image, translation_matrix, tuple(image.shape[:2]))\n",
    "    \n",
    "    del randX, randY, translation_matrix\n",
    "    return retVal"
   ]
  },
  {
   "cell_type": "code",
   "execution_count": null,
   "metadata": {
    "collapsed": false,
    "deletable": true,
    "editable": true
   },
   "outputs": [],
   "source": [
    "image = X_train_org[np.random.randint(len(X_train_org))]\n",
    "aug_image1 = random_rotation(image, 2)\n",
    "aug_image2 = random_translation(image, 2)\n",
    "aug_image3 = equalize_Histogram_Y(image)\n",
    "print(image.shape)\n",
    "plt.figure(figsize=(15,6))\n",
    "plt.subplot(1,4,1)\n",
    "plt.title('original image')\n",
    "plt.imshow(image)\n",
    "plt.axis('off')\n",
    "plt.subplot(1,4,2)\n",
    "plt.title('with random rotation between -2..2')\n",
    "plt.imshow(aug_image1)\n",
    "plt.axis('off')\n",
    "plt.subplot(1,4,3)\n",
    "plt.title('with random translation between -2..2')\n",
    "plt.imshow(aug_image2)\n",
    "plt.axis('off')\n",
    "plt.subplot(1,4,4)\n",
    "plt.title('equalized histogram in YUV')\n",
    "plt.imshow(aug_image3)\n",
    "plt.axis('off')\n",
    "plt.tight_layout()\n",
    "plt.savefig('./images/image_augmentation.png', bbox_inches='tight')\n",
    "\n",
    "del image, aug_image1, aug_image2, aug_image3"
   ]
  },
  {
   "cell_type": "code",
   "execution_count": null,
   "metadata": {
    "collapsed": true,
    "deletable": true,
    "editable": true
   },
   "outputs": [],
   "source": [
    "def augment_image(image, α=1, x=1, k=3):\n",
    "    rnd_op = np.random.randint(0,3)\n",
    "    \n",
    "    if rnd_op == 0 or rnd_op == 3:\n",
    "        image = random_rotation(image, α)\n",
    "    if rnd_op == 1 or rnd_op == 3:\n",
    "        image = random_translation(image, x)\n",
    "    if rnd_op == 2 or rnd_op == 3:\n",
    "        image = equalize_Histogram_Y(image)\n",
    "    #if rnd_op == 2 or rnd_op == 3:\n",
    "        #image = gaussian_blur(image, k)\n",
    "        \n",
    "    del rnd_op\n",
    "    return image"
   ]
  },
  {
   "cell_type": "markdown",
   "metadata": {
    "deletable": true,
    "editable": true
   },
   "source": [
    "### Augmentation"
   ]
  },
  {
   "cell_type": "code",
   "execution_count": null,
   "metadata": {
    "collapsed": false,
    "deletable": true,
    "editable": true
   },
   "outputs": [],
   "source": [
    "X_aug = list()\n",
    "y_aug = list()\n",
    "org_to_aug = list()\n",
    "\n",
    "if not training_set_balanced:\n",
    "    kernel_sizes = [3, 5, 7, 9]\n",
    "    images_per_class = np.bincount(y_train)\n",
    "    max_image_count = np.max(images_per_class)\n",
    "    for classId in range(n_classes):\n",
    "        X_source = X_train_org[np.where(y_train == classId)]\n",
    "        new_image_count = max_image_count - images_per_class[classId] + np.random.randint(-50, 50)\n",
    "        if new_image_count < 1:\n",
    "            continue\n",
    "        for i in range(new_image_count):\n",
    "            α = 2\n",
    "            thrsld = 2\n",
    "            randSourceIdx = np.random.randint(images_per_class[classId])\n",
    "            sourceImage = X_source[randSourceIdx]\n",
    "            augImage = augment_image(sourceImage, α, thrsld)\n",
    "            X_aug.append(augImage)\n",
    "            y_aug.append(classId)\n",
    "            org_to_aug.append((sourceImage, augImage))\n",
    "        \n",
    "    X_train = np.append(X_train, X_aug, axis=0)\n",
    "    y_train = np.append(y_train, y_aug, axis=0)\n",
    "        \n",
    "    del kernel_sizes, images_per_class, max_image_count, new_image_count, sourceImage, augImage\n",
    "    training_set_balanced = True\n",
    "    \n",
    "n_train = np.size(y_train)\n",
    "print(\"Number of training examples =\", n_train)\n",
    "assert(len(X_train) == len(y_train))"
   ]
  },
  {
   "cell_type": "code",
   "execution_count": null,
   "metadata": {
    "collapsed": true,
    "deletable": true,
    "editable": true
   },
   "outputs": [],
   "source": [
    "mean_X_train = np.mean(X_train)\n",
    "mean_X_train_org = np.mean(X_train_org)\n",
    "mean_X_test = np.mean(X_test)"
   ]
  },
  {
   "cell_type": "code",
   "execution_count": null,
   "metadata": {
    "collapsed": false,
    "deletable": true,
    "editable": true
   },
   "outputs": [],
   "source": [
    "print(\"Added \", len(X_aug), \" augmented images\")\n",
    "print(\"Mean over X_train: \", mean_X_train, \"\\nMean over X_train_org: \", mean_X_train_org,\\\n",
    "      \"\\nMean over X_test: \", mean_X_test)"
   ]
  },
  {
   "cell_type": "code",
   "execution_count": null,
   "metadata": {
    "collapsed": false,
    "deletable": true,
    "editable": true
   },
   "outputs": [],
   "source": [
    "# balanced training set\n",
    "# Count of Images per Type in Train set\n",
    "fig = plt.figure(figsize=(16,5))\n",
    "plt.axis([-1, 43, 0, np.max(np.bincount(y_train)) + 50])\n",
    "plt.hist(y_train, n_classes, color='green', rwidth=0.8)\n",
    "plt.title('Train dataset')\n",
    "plt.xlabel('Class ID')\n",
    "plt.ylabel('# of Images')\n",
    "plt.savefig('./images/distribution_augmented.png', bbox_inches='tight')"
   ]
  },
  {
   "cell_type": "code",
   "execution_count": null,
   "metadata": {
    "collapsed": true,
    "deletable": true,
    "editable": true
   },
   "outputs": [],
   "source": [
    "def convert_to_grayscale(image):\n",
    "    return np.sum(image/3, axis=2, keepdims=True)"
   ]
  },
  {
   "cell_type": "code",
   "execution_count": null,
   "metadata": {
    "collapsed": true,
    "deletable": true,
    "editable": true
   },
   "outputs": [],
   "source": [
    "# Normalize the image data with Min-Max scaling to a range of [-1.0, 1.0]\n",
    "def normalize_grayscale(image, a= -1.0, b= 1.0):\n",
    "    return a + (image * (b-a) / 255.0)"
   ]
  },
  {
   "cell_type": "code",
   "execution_count": null,
   "metadata": {
    "collapsed": true,
    "deletable": true,
    "editable": true
   },
   "outputs": [],
   "source": [
    "def equalize_Histogram(image):\n",
    "    image = cv2.cvtColor(image, cv2.COLOR_BGR2GRAY)\n",
    "    image = cv2.equalizeHist(image)\n",
    "    return cv2.cvtColor(image, cv2.COLOR_GRAY2BGR)"
   ]
  },
  {
   "cell_type": "code",
   "execution_count": null,
   "metadata": {
    "collapsed": true,
    "deletable": true,
    "editable": true
   },
   "outputs": [],
   "source": [
    "def normalize_image(image, equalize=False):\n",
    "    if equalize:\n",
    "        image = equalize_Histogram(image)\n",
    "    image = convert_to_grayscale(image)\n",
    "    image = normalize_grayscale(image)\n",
    "    return image"
   ]
  },
  {
   "cell_type": "code",
   "execution_count": null,
   "metadata": {
    "collapsed": false,
    "deletable": true,
    "editable": true
   },
   "outputs": [],
   "source": [
    "image = X_train_org[np.random.randint(len(X_train_org))]\n",
    "norm_image1 = convert_to_grayscale(image)\n",
    "norm_image2 = normalize_grayscale(image)\n",
    "norm_image3 = equalize_Histogram(image)\n",
    "norm_image4 = normalize_image(image, True)\n",
    "print(image.shape)\n",
    "plt.figure(figsize=(15,6))\n",
    "plt.subplot(1,5,1)\n",
    "plt.title('original image')\n",
    "plt.imshow(image.squeeze())\n",
    "plt.axis('off')\n",
    "plt.subplot(1,5,2)\n",
    "plt.title('converted to grayscale')\n",
    "plt.imshow(norm_image1.squeeze(), cmap='gray')\n",
    "plt.axis('off')\n",
    "plt.subplot(1,5,3)\n",
    "plt.title('normalized')\n",
    "plt.imshow(norm_image2.squeeze())\n",
    "plt.axis('off')\n",
    "plt.subplot(1,5,4)\n",
    "plt.title('equalized histogram in grayscale')\n",
    "plt.imshow(norm_image3.squeeze())\n",
    "plt.axis('off')\n",
    "plt.subplot(1,5,5)\n",
    "plt.title('complete preprocess pipeline')\n",
    "plt.imshow(norm_image4.squeeze(), cmap='gray')\n",
    "plt.axis('off')\n",
    "plt.tight_layout()\n",
    "plt.savefig('./images/image_normalization.png', bbox_inches='tight')\n",
    "del image, norm_image1, norm_image2, norm_image3, norm_image4"
   ]
  },
  {
   "cell_type": "markdown",
   "metadata": {
    "deletable": true,
    "editable": true
   },
   "source": [
    "### Normalization"
   ]
  },
  {
   "cell_type": "code",
   "execution_count": null,
   "metadata": {
    "collapsed": false,
    "deletable": true,
    "editable": true
   },
   "outputs": [],
   "source": [
    "if not images_normalized:\n",
    "    X_train_aug_org = np.copy(X_train)\n",
    "    y_train_aug_org = np.copy(y_train)\n",
    "    \n",
    "    X_train = list(map(lambda img: normalize_image(img, True), X_train))\n",
    "    X_test = list(map(lambda img: normalize_image(img, True), X_test))\n",
    "    X_valid = list(map(lambda img: normalize_image(img, True), X_valid))\n",
    "    \n",
    "    images_normalized = True"
   ]
  },
  {
   "cell_type": "code",
   "execution_count": null,
   "metadata": {
    "collapsed": false,
    "deletable": true,
    "editable": true
   },
   "outputs": [],
   "source": [
    "mean_train_norm = np.mean(X_train)\n",
    "mean_test_norm = np.mean(X_test)\n",
    "print(\"Mean over normalized X_train: \", mean_train_norm, \"\\nMean over normalized X_test: \", mean_test_norm)"
   ]
  },
  {
   "cell_type": "code",
   "execution_count": null,
   "metadata": {
    "collapsed": false,
    "deletable": true,
    "editable": true
   },
   "outputs": [],
   "source": [
    "# original sets\n",
    "mean_values = (mean_X_train_org, mean_X_train, mean_X_test)\n",
    "fig, ax = plt.subplots(1, 2, figsize=(15,6))\n",
    "ind = np.arange(len(mean_values))\n",
    "rects1 = ax[0].bar(ind, mean_values, color='green')\n",
    "ax[0].set_ylabel('mean value of raw sets')\n",
    "ax[0].set_xticks(ind)\n",
    "ax[0].set_xticklabels(('train_org', 'mean_X_train', 'mean_X_test'))\n",
    "# normalized sets\n",
    "mean_values = (mean_train_norm, mean_test_norm)\n",
    "ind = np.arange(len(mean_values))\n",
    "rects1 = ax[1].bar(ind, mean_values, color='green')\n",
    "ax[1].set_ylabel('mean value of normalized sets')\n",
    "ax[1].set_xticks(ind)\n",
    "ax[1].set_xticklabels(('mean_train_norm', 'mean_test_norm'))\n",
    "fig.tight_layout()\n",
    "plt.savefig('./images/mean_of_sets.png', bbox_inches='tight')"
   ]
  },
  {
   "cell_type": "code",
   "execution_count": null,
   "metadata": {
    "collapsed": false,
    "deletable": true,
    "editable": true
   },
   "outputs": [],
   "source": [
    "plt.figure(figsize=(12,5))\n",
    "for i in range(1,9):\n",
    "    # get random index\n",
    "    index = np.random.randint(len(org_to_aug))\n",
    "    imgIdc = org_to_aug[index]\n",
    "    org_image = imgIdc[0].squeeze()\n",
    "    aug_image = imgIdc[1].squeeze()\n",
    "    image = np.hstack((org_image, aug_image))\n",
    "    # create subplot\n",
    "    plt.subplot(2,4,i)\n",
    "    plt.imshow(image)\n",
    "    \n",
    "plt.tight_layout()\n",
    "plt.savefig('./images/augmented_original_compared.png', bbox_inches='tight')\n",
    "print(\"Comparing source images on the left hand side with their augmented images\")\n",
    "del index, imgIdc, image, org_image, aug_image"
   ]
  },
  {
   "cell_type": "code",
   "execution_count": null,
   "metadata": {
    "collapsed": false,
    "deletable": true,
    "editable": true
   },
   "outputs": [],
   "source": [
    "plt.figure(figsize=(12,5))\n",
    "for i in range(1, 12, 2):\n",
    "    # get random image from train set\n",
    "    index = np.random.randint(len(X_aug))\n",
    "    norm_image = X_train[index]\n",
    "    org_image = X_train_aug_org[index]\n",
    "    # create subplot\n",
    "    plt.subplot(2,6,i)\n",
    "    plt.title(y_train[index],fontsize=16)\n",
    "    plt.xlabel('processed')\n",
    "    plt.imshow(norm_image.squeeze(), cmap='gray')\n",
    "    plt.subplot(2,6,i+1)\n",
    "    plt.title(y_train_aug_org[index],fontsize=16)\n",
    "    plt.xlabel('original')\n",
    "    plt.imshow(org_image.squeeze())\n",
    "    \n",
    "plt.tight_layout()\n",
    "plt.savefig('./images/augmented_normalized_original.png', bbox_inches='tight')\n",
    "print(\"Comparing normalized images on the left hand side with their source images\")\n",
    "del index, norm_image, org_image"
   ]
  },
  {
   "cell_type": "code",
   "execution_count": null,
   "metadata": {
    "collapsed": true,
    "deletable": true,
    "editable": true
   },
   "outputs": [],
   "source": [
    "# shuffle training data\n",
    "X_train, y_train = shuffle(X_train, y_train)\n",
    "X_valid, y_valid = shuffle(X_valid, y_valid)\n",
    "X_test, y_test = shuffle(X_test, y_test)"
   ]
  },
  {
   "cell_type": "code",
   "execution_count": null,
   "metadata": {
    "collapsed": false,
    "deletable": true,
    "editable": true
   },
   "outputs": [],
   "source": [
    "image_shape = X_train[0].shape\n",
    "print(image_shape)"
   ]
  },
  {
   "cell_type": "code",
   "execution_count": null,
   "metadata": {
    "collapsed": false,
    "deletable": true,
    "editable": true
   },
   "outputs": [],
   "source": [
    "print(\"# training images: \", len(X_train), '\\n# of validation images: ', len(X_valid),\n",
    "     '\\n# of test images: ', len(X_test))"
   ]
  },
  {
   "cell_type": "markdown",
   "metadata": {
    "deletable": true,
    "editable": true
   },
   "source": [
    "### Model Architecture"
   ]
  },
  {
   "cell_type": "code",
   "execution_count": null,
   "metadata": {
    "collapsed": false,
    "deletable": true,
    "editable": true
   },
   "outputs": [],
   "source": [
    "### Define your architecture here.\n",
    "### Feel free to use as many code cells as needed.\n",
    "import tensorflow as tf\n",
    "from tensorflow.contrib.layers import flatten as tfFlatten"
   ]
  },
  {
   "cell_type": "code",
   "execution_count": null,
   "metadata": {
    "collapsed": true,
    "deletable": true,
    "editable": true
   },
   "outputs": [],
   "source": [
    "tf.reset_default_graph()"
   ]
  },
  {
   "cell_type": "code",
   "execution_count": null,
   "metadata": {
    "collapsed": false,
    "deletable": true,
    "editable": true
   },
   "outputs": [],
   "source": [
    "# Arguments used for tf.truncated_normal, randomly defines variables for the weights and biases for each layer\n",
    "mu = 0\n",
    "sigma = 0.1\n",
    "\n",
    "weights = {\n",
    "    'conv1_W': tf.Variable(tf.truncated_normal(shape=(3, 3, 1, 100), mean=mu, stddev=sigma)),\n",
    "    'conv2_W': tf.Variable(tf.truncated_normal(shape=(4, 4, 100, 150), mean=mu, stddev=sigma)),\n",
    "    'conv3_W': tf.Variable(tf.truncated_normal(shape=(4, 4, 150, 250), mean=mu, stddev=sigma)),\n",
    "    'fc1_W': tf.Variable(tf.truncated_normal(shape=(9000, 200), mean=mu, stddev=sigma)),\n",
    "    'fc2_W': tf.Variable(tf.truncated_normal(shape=(200, 43), mean=mu, stddev=sigma)),\n",
    "    'fc3_W': tf.Variable(tf.truncated_normal(shape=(43, 43), mean=mu, stddev=sigma)) \n",
    "}\n",
    "\n",
    "biases = {\n",
    "    'conv1_b': tf.Variable(tf.zeros(100)),\n",
    "    'conv2_b': tf.Variable(tf.zeros(150)),\n",
    "    'conv3_b': tf.Variable(tf.zeros(250)),\n",
    "    'fc1_b': tf.Variable(tf.zeros(200)),\n",
    "    'fc2_b': tf.Variable(tf.zeros(43)),\n",
    "    'fc3_b': tf.Variable(tf.zeros(43))\n",
    "}"
   ]
  },
  {
   "cell_type": "code",
   "execution_count": null,
   "metadata": {
    "collapsed": false,
    "deletable": true,
    "editable": true
   },
   "outputs": [],
   "source": [
    "def conv2d_maxpool(x_tensor, layer_name, padding, convStrides=[1,1,1,1], poolKernel=[1, 2, 2, 1],\n",
    "                   poolStrides=[1, 2, 2, 1], debug=False):\n",
    "    global LAYERS\n",
    "    l_W = weights[layer_name + '_W']\n",
    "    l_b = biases[layer_name + '_b']\n",
    "    \n",
    "    if debug: print(layer_name, ' weights:', l_W, ' x_tensor: ', x_tensor, ' padding: ', padding)\n",
    "    \n",
    "    # init convolutional layer\n",
    "    layer = tf.nn.conv2d(x_tensor, l_W, convStrides, padding=padding) + l_b\n",
    "    \n",
    "    # adding layer for later\n",
    "    LAYERS[layer_name] = layer\n",
    "    \n",
    "    # activating convolutional layer\n",
    "    activated = tf.nn.relu(layer)\n",
    "    \n",
    "    # pooling layer\n",
    "    pooled = tf.nn.max_pool(activated, poolKernel, poolStrides, padding=padding)\n",
    "\n",
    "    return pooled"
   ]
  },
  {
   "cell_type": "code",
   "execution_count": null,
   "metadata": {
    "collapsed": true,
    "deletable": true,
    "editable": true
   },
   "outputs": [],
   "source": [
    "def fully_connected(x_tensor, layer_name, activate=True, dropout=True, debug=False):\n",
    "    global LAYERS\n",
    "    l_W = weights[layer_name + '_W']\n",
    "    l_b = biases[layer_name + '_b']\n",
    "    \n",
    "    if debug: print(layer_name, ' weights:', l_W, ' x_tensor: ', x_tensor, ' activate: ', str(activate), \\\n",
    "                    ' dropout: ', str(dropout))\n",
    "    \n",
    "    # init fully connected layer\n",
    "    retVal = tf.matmul(x_tensor, l_W) + l_b\n",
    "\n",
    "    if activate:\n",
    "        # adding activation\n",
    "        retVal = tf.nn.relu(retVal)\n",
    "        LAYERS[layer_name] = retVal\n",
    "        if debug: print(layer_name, ' got activated')\n",
    "    \n",
    "    if dropout:\n",
    "        # adding dropout\n",
    "        retVal = tf.nn.dropout(retVal, keep_prob)\n",
    "        if debug: print(layer_name, ' got dropout')\n",
    "    \n",
    "    return retVal"
   ]
  },
  {
   "cell_type": "code",
   "execution_count": null,
   "metadata": {
    "collapsed": false,
    "deletable": true,
    "editable": true
   },
   "outputs": [],
   "source": [
    "def StreetSignNet(x, debug=False):\n",
    "    # Layer 1\n",
    "    l1 = conv2d_maxpool(x, 'conv1', padding='VALID', debug=debug)\n",
    "    if debug: print(\"layer 1: \", l1)\n",
    "\n",
    "    # Layer 2\n",
    "    l2 = conv2d_maxpool(l1, 'conv2', padding='VALID', debug=debug)\n",
    "    if debug: print('layer 2: ', l2)\n",
    "    \n",
    "    # Layer 3\n",
    "    l3 = conv2d_maxpool(l2, 'conv3', padding='SAME', poolKernel=[1, 1, 1, 1], poolStrides=[1, 1, 1, 1], debug=debug)\n",
    "    if debug: print('layer 3: ', l3)\n",
    "    \n",
    "    # Layer 4 - flatten Layer 3\n",
    "    l4 = tfFlatten(l3)\n",
    "    if debug: print('layer 4: ', l4)\n",
    "    \n",
    "    # Layer 5\n",
    "    l5 = fully_connected(l4, 'fc1', activate=True, dropout=True, debug=debug)\n",
    "    if debug: print('layer 5: ', l5)\n",
    "\n",
    "    # Layer 6\n",
    "    l6 = fully_connected(l5, 'fc2', activate=True, dropout=True, debug=debug)\n",
    "    if debug: print('layer 6: ', l6)\n",
    "        \n",
    "    # Layer 7\n",
    "    logits = fully_connected(l6, 'fc3', activate=False, dropout=False, debug=debug)\n",
    "    if debug: print('layer 7: ', logits)\n",
    "    \n",
    "    return logits"
   ]
  },
  {
   "cell_type": "code",
   "execution_count": null,
   "metadata": {
    "collapsed": true,
    "deletable": true,
    "editable": true
   },
   "outputs": [],
   "source": [
    "x = tf.placeholder(tf.float32, (None, 32, 32, 1))\n",
    "y = tf.placeholder(tf.int32, (None))\n",
    "keep_prob = tf.placeholder(tf.float32)\n",
    "one_hot_y = tf.one_hot(y, n_classes)"
   ]
  },
  {
   "cell_type": "markdown",
   "metadata": {
    "deletable": true,
    "editable": true
   },
   "source": [
    "### Training"
   ]
  },
  {
   "cell_type": "code",
   "execution_count": null,
   "metadata": {
    "collapsed": true,
    "deletable": true,
    "editable": true
   },
   "outputs": [],
   "source": [
    "EPOCHS = 25\n",
    "BATCH_SIZE = 256\n",
    "LEARN_RATE = 0.001\n",
    "LAYERS = dict()"
   ]
  },
  {
   "cell_type": "code",
   "execution_count": null,
   "metadata": {
    "collapsed": false,
    "deletable": true,
    "editable": true
   },
   "outputs": [],
   "source": [
    "logits = StreetSignNet(x, debug=True)\n",
    "cross_entropy = tf.nn.softmax_cross_entropy_with_logits(logits, one_hot_y)\n",
    "loss_operation = tf.reduce_mean(cross_entropy)\n",
    "optimizer = tf.train.AdamOptimizer(LEARN_RATE)\n",
    "training_operation = optimizer.minimize(loss_operation)"
   ]
  },
  {
   "cell_type": "code",
   "execution_count": null,
   "metadata": {
    "collapsed": true,
    "deletable": true,
    "editable": true
   },
   "outputs": [],
   "source": [
    "correct_prediction = tf.equal(tf.argmax(logits, 1), tf.argmax(one_hot_y, 1))\n",
    "accuracy_operation = tf.reduce_mean(tf.cast(correct_prediction, tf.float32))\n",
    "\n",
    "def evaluate(X_data, y_data):\n",
    "    num_examples = len(X_data)\n",
    "    total_accuracy = 0\n",
    "    sess = tf.get_default_session()\n",
    "    for offset in range(0, num_examples, BATCH_SIZE):\n",
    "        batch_x, batch_y = X_data[offset:offset+BATCH_SIZE], y_data[offset:offset+BATCH_SIZE]\n",
    "        accuracy = sess.run(accuracy_operation, feed_dict={x: batch_x, \n",
    "                                                           y: batch_y,\n",
    "                                                           keep_prob: 1.})\n",
    "        total_accuracy += (accuracy * len(batch_x))\n",
    "    return total_accuracy / num_examples"
   ]
  },
  {
   "cell_type": "code",
   "execution_count": null,
   "metadata": {
    "collapsed": true,
    "deletable": true,
    "editable": true
   },
   "outputs": [],
   "source": [
    "saver = tf.train.Saver()"
   ]
  },
  {
   "cell_type": "code",
   "execution_count": null,
   "metadata": {
    "collapsed": false,
    "deletable": true,
    "editable": true
   },
   "outputs": [],
   "source": [
    "with tf.Session() as sess:\n",
    "    sess.run(tf.global_variables_initializer())\n",
    "    \n",
    "    if tf.train.latest_checkpoint('./') != None or len(saver.last_checkpoints) > 0:\n",
    "        print('restore checkpoint')\n",
    "        saver.restore(sess, tf.train.latest_checkpoint('.'))\n",
    "        EPOCHS = 5\n",
    "\n",
    "    num_examples = len(X_train)\n",
    "    \n",
    "    print(\"Training...\")\n",
    "    print()\n",
    "    for i in range(EPOCHS):\n",
    "        X_train, y_train = shuffle(X_train, y_train)\n",
    "        for offset in range(0, num_examples, BATCH_SIZE):\n",
    "            end = offset + BATCH_SIZE\n",
    "            batch_x, batch_y = X_train[offset:end], y_train[offset:end]\n",
    "            sess.run(training_operation, feed_dict={x: batch_x, \n",
    "                                                    y: batch_y,\n",
    "                                                    keep_prob: 0.5})\n",
    "            \n",
    "        validation_accuracy = evaluate(X_valid, y_valid)\n",
    "        print(\"EPOCH {} ...\".format(i+1))\n",
    "        print(\"Validation Accuracy = {:.3f}\".format(validation_accuracy))\n",
    "        print()\n",
    "        \n",
    "    try:\n",
    "        saver\n",
    "    except NameError:\n",
    "        saver = tf.train.Saver()\n",
    "    saver.save(sess, 'sign_net')\n",
    "    print(\"Model saved\")"
   ]
  },
  {
   "cell_type": "markdown",
   "metadata": {
    "deletable": true,
    "editable": true
   },
   "source": [
    "### Accuracy"
   ]
  },
  {
   "cell_type": "code",
   "execution_count": null,
   "metadata": {
    "collapsed": false,
    "deletable": true,
    "editable": true
   },
   "outputs": [],
   "source": [
    "with tf.Session() as sess:\n",
    "    saver.restore(sess, tf.train.latest_checkpoint('.'))\n",
    "\n",
    "    test_accuracy = evaluate(X_test, y_test)\n",
    "    print(\"Test Accuracy = {:.3f}\".format(test_accuracy))"
   ]
  },
  {
   "cell_type": "markdown",
   "metadata": {
    "deletable": true,
    "editable": true
   },
   "source": [
    "---\n",
    "\n",
    "## Step 3: Test a Model on New Images\n",
    "\n",
    "To give yourself more insight into how your model is working, download at least five pictures of German traffic signs from the web and use your model to predict the traffic sign type.\n",
    "\n",
    "You may find `signnames.csv` useful as it contains mappings from the class id (integer) to the actual sign name."
   ]
  },
  {
   "cell_type": "markdown",
   "metadata": {
    "deletable": true,
    "editable": true
   },
   "source": [
    "### Load and Output the Images"
   ]
  },
  {
   "cell_type": "code",
   "execution_count": null,
   "metadata": {
    "collapsed": false,
    "deletable": true,
    "editable": true
   },
   "outputs": [],
   "source": [
    "import os\n",
    "\n",
    "### Load the images and plot them here.\n",
    "images_with_labels = {}\n",
    "labels = {}\n",
    "X_new = list()\n",
    "y_new = np.array([], dtype=np.int)\n",
    "path_to_signs = './examples/signs'\n",
    "plt.figure(figsize=(15,6))\n",
    "for imagePath in os.listdir(path_to_signs):\n",
    "    image = cv2.imread(os.path.join(path_to_signs, imagePath), cv2.IMREAD_UNCHANGED)\n",
    "    path = imagePath.split('_')\n",
    "    image = cv2.resize(image, (32, 32))\n",
    "    imageRGB = cv2.cvtColor(image, cv2.COLOR_BGRA2RGB)\n",
    "    images_with_labels[path[0]] = imageRGB\n",
    "    X_new.append(image)\n",
    "    y_new = np.append(y_new, [np.int(path[0])])\n",
    "    labels[path[0]] = path[1]\n",
    "    plt.subplot(3,4,len(X_new))\n",
    "    plt.imshow(imageRGB)\n",
    "    plt.title('#{} {}'.format(len(X_new), path[1]))\n",
    "    plt.axis('off')\n",
    "\n",
    "plt.tight_layout()\n",
    "plt.savefig('./images/new_images_raw.png', bbox_inches='tight')\n",
    "    \n",
    "print(\"Loaded {} images\".format(len(images_with_labels)))\n",
    "new_images_normalized = False\n",
    "\n",
    "del image, path, imageRGB"
   ]
  },
  {
   "cell_type": "code",
   "execution_count": null,
   "metadata": {
    "collapsed": false,
    "deletable": true,
    "editable": true
   },
   "outputs": [],
   "source": [
    "print(len(X_new), ' images of shape: ' , X_new[0].shape)"
   ]
  },
  {
   "cell_type": "code",
   "execution_count": null,
   "metadata": {
    "collapsed": false,
    "deletable": true,
    "editable": true
   },
   "outputs": [],
   "source": [
    "labels"
   ]
  },
  {
   "cell_type": "code",
   "execution_count": null,
   "metadata": {
    "collapsed": false,
    "deletable": true,
    "editable": true
   },
   "outputs": [],
   "source": [
    "if not new_images_normalized:\n",
    "    X_new = list(map(lambda img: normalize_image(img), X_new))\n",
    "    print('new images normalized')\n",
    "    new_images_normalized=True"
   ]
  },
  {
   "cell_type": "code",
   "execution_count": null,
   "metadata": {
    "collapsed": false,
    "deletable": true,
    "editable": true,
    "scrolled": false
   },
   "outputs": [],
   "source": [
    "for i, image in enumerate(X_new):\n",
    "    # get label for image from signnames\n",
    "    classId = y_new[i]\n",
    "    psbl_images = y_train_group.groups.get(classId)\n",
    "    if str(psbl_images) == 'None': continue\n",
    "    gtsrb_image = X_train_org[psbl_images[np.random.randint(len(psbl_images))]]\n",
    "    org_image = images_with_labels.get(str(classId))\n",
    "    signNme = signnames.SignName[classId] if classId < 44 else labels[str(classId)]\n",
    "    label = \"{} - {}\".format(classId, signNme)\n",
    "    plt.figure(figsize=(10,5))\n",
    "    # create subplot\n",
    "    sub_plot = plt.subplot(1,3,1)\n",
    "    sub_plot.set_title(label,fontsize=16)\n",
    "    sub_plot.set_xlabel(\"Normalized\")\n",
    "    plt.imshow(image.squeeze(), cmap='gray')\n",
    "    sub_plot = plt.subplot(1,3,2)\n",
    "    sub_plot.set_title(label,fontsize=16)\n",
    "    sub_plot.set_xlabel(\"Original\")\n",
    "    plt.imshow(org_image.squeeze())\n",
    "    sub_plot = plt.subplot(1,3,3)\n",
    "    sub_plot.set_title(label,fontsize=16)\n",
    "    sub_plot.set_xlabel(\"GTSRB Example\")\n",
    "    plt.imshow(gtsrb_image.squeeze())\n",
    "    plt.tight_layout()\n",
    "    plt.savefig('./images/normalized_new_{}.png'.format(i), bbox_inches='tight')\n"
   ]
  },
  {
   "cell_type": "markdown",
   "metadata": {
    "deletable": true,
    "editable": true
   },
   "source": [
    "### Predict the Sign Type for Each Image"
   ]
  },
  {
   "cell_type": "code",
   "execution_count": null,
   "metadata": {
    "collapsed": false,
    "deletable": true,
    "editable": true
   },
   "outputs": [],
   "source": [
    "with tf.Session() as sess:\n",
    "    saver.restore(sess, tf.train.latest_checkpoint('.'))\n",
    "\n",
    "    test_accuracy = evaluate(X_new, y_new)\n",
    "    print(\"Test Accuracy = {:.3f}\".format(test_accuracy))"
   ]
  },
  {
   "cell_type": "code",
   "execution_count": null,
   "metadata": {
    "collapsed": false,
    "deletable": true,
    "editable": true,
    "scrolled": false
   },
   "outputs": [],
   "source": [
    "### Run the predictions here and use the model to output the prediction for each image.\n",
    "### Make sure to pre-process the images with the same pre-processing pipeline used earlier.\n",
    "h_line = np.zeros((3,1024), np.uint8)\n",
    "import sys\n",
    "\n",
    "n_new_images = len(X_new)\n",
    "n_correct = 0\n",
    "top=5\n",
    "\n",
    "softmax_for_later = dict()\n",
    "topK_for_later = dict()\n",
    "\n",
    "softmax = tf.nn.softmax(logits)\n",
    "with tf.Session() as sess:\n",
    "    saver.restore(sess, tf.train.latest_checkpoint('./'))\n",
    "    \n",
    "    for img_idx, image in enumerate(X_new):\n",
    "        fd = {x: [image], keep_prob: 1.}\n",
    "        softmax_predictions = sess.run(softmax, feed_dict=fd)\n",
    "        \n",
    "        softmax_for_later[img_idx] = softmax_predictions\n",
    "        \n",
    "        top_k = tf.nn.top_k(softmax, top)\n",
    "        topProbabilities, topClasses = sess.run(top_k, feed_dict=fd)\n",
    "        \n",
    "        topK_for_later[img_idx] = (topProbabilities, topClasses)\n",
    "        \n",
    "        predictedClass = topClasses[0][0]\n",
    "        \n",
    "        # get sign from new image set to display\n",
    "        org_img = images_with_labels.get(str(y_new[img_idx]))\n",
    "\n",
    "        # get predicted sign from training set if it's not in new set\n",
    "        randomIndex = np.random.randint(0, n_classes)\n",
    "        indexGroup = y_train_group.groups.get(predictedClass)\n",
    "        predicted_img = X_train_org[indexGroup[randomIndex]]\n",
    "        # if predicted sign in new signs load it from there\n",
    "        if str(img_idx) in images_with_labels:\n",
    "            predicted_img = images_with_labels.get(str(predictedClass)) \n",
    "         \n",
    "        fig = plt.figure(figsize=(15,6))\n",
    "        plt.subplot(1,3,1)\n",
    "        plt.imshow(image.squeeze(), cmap='gray')\n",
    "        plt.title('Tested Image')\n",
    "        plt.axis('off')\n",
    "        plt.subplot(1,3,2)\n",
    "        plt.bar(left=signnames.ClassId, height=softmax_predictions[0], color='lightgreen')\n",
    "        plt.xlabel('Class Id')\n",
    "        plt.ylabel('propability')\n",
    "        plt.title('top five softmax')\n",
    "        plt.subplot(1,3,3)\n",
    "        plt.imshow(predicted_img)\n",
    "        plt.axis('off')\n",
    "        plt.title('Predicted Image')\n",
    "        fig.tight_layout()\n",
    "        plt.savefig('./images/predicted_{}.png'.format(img_idx), bbox_inches='tight')\n",
    "        plt.show()\n",
    "            \n",
    "        textImage = np.ones((500, 2400))\n",
    "        fontFace = cv2.FONT_HERSHEY_COMPLEX\n",
    "        fontScale = thickness = 2\n",
    "        baseline = leftBorder = 10\n",
    "        firstLine = \"Image #{} ClassId: {}\".format(img_idx, predictedClass)\n",
    "        textSize = cv2.getTextSize(firstLine, fontFace, fontScale, thickness)\n",
    "        baseline += textSize[0][1]\n",
    "        textImage = cv2.putText(textImage, firstLine, (leftBorder, baseline), fontFace, fontScale, (0,0,0), \n",
    "                                thickness)\n",
    "        baseline += 30\n",
    "        for probability, classId in zip(topProbabilities[0], topClasses[0]):\n",
    "            txt = \"{}: {:.3f}\".format(signnames.SignName[classId], probability)\n",
    "            textSize = cv2.getTextSize(txt, fontFace, fontScale, thickness)\n",
    "            baseline += textSize[0][1] + 10\n",
    "            textImage = cv2.putText(textImage, txt, (leftBorder, baseline), fontFace, fontScale, (0,0,0), \n",
    "                                    thickness)\n",
    "            \n",
    "        textImage = cv2.line(textImage, (0, baseline+50), (int(2390/2), baseline+50), (0,0,0), \n",
    "                             thickness)\n",
    "           \n",
    "        plt.figure(figsize=(15,6))\n",
    "        plt.title(\"TOP5 Softmax Propabilities\")\n",
    "        plt.axis('off')\n",
    "        plt.imshow(textImage, cmap='gray')\n",
    "        plt.tight_layout()\n",
    "        plt.savefig('./images/predicted_text_{}.png'.format(img_idx), bbox_inches='tight')\n",
    "        plt.show()\n",
    "        \n",
    "        # test image class\n",
    "        testClass = y_new[img_idx]\n",
    "        # if predictedClass == testClass it was a correct match\n",
    "        n_correct += 1 if predictedClass == testClass else 0"
   ]
  },
  {
   "cell_type": "markdown",
   "metadata": {
    "deletable": true,
    "editable": true
   },
   "source": [
    "### Analyze Performance"
   ]
  },
  {
   "cell_type": "code",
   "execution_count": null,
   "metadata": {
    "collapsed": false,
    "deletable": true,
    "editable": true
   },
   "outputs": [],
   "source": [
    "### Calculate the accuracy for these 5 new images. \n",
    "### For example, if the model predicted 1 out of 5 signs correctly, it's 20% accurate on these new images.\n",
    "print(\"StreetSignModel got {} out of {} signs correct! Accuracy: {:.3F}%\".format(n_correct, \n",
    "                                                                        n_new_images, \n",
    "                                                                        (n_correct/n_new_images) * 100.))"
   ]
  },
  {
   "cell_type": "markdown",
   "metadata": {
    "deletable": true,
    "editable": true
   },
   "source": [
    "### Output Top 5 Softmax Probabilities For Each Image Found on the Web"
   ]
  },
  {
   "cell_type": "markdown",
   "metadata": {
    "deletable": true,
    "editable": true
   },
   "source": [
    "For each of the new images, print out the model's softmax probabilities to show the **certainty** of the model's predictions (limit the output to the top 5 probabilities for each image). [`tf.nn.top_k`](https://www.tensorflow.org/versions/r0.12/api_docs/python/nn.html#top_k) could prove helpful here. \n",
    "\n",
    "The example below demonstrates how tf.nn.top_k can be used to find the top k predictions for each image.\n",
    "\n",
    "`tf.nn.top_k` will return the values and indices (class ids) of the top k predictions. So if k=3, for each sign, it'll return the 3 largest probabilities (out of a possible 43) and the correspoding class ids.\n",
    "\n",
    "Take this numpy array as an example. The values in the array represent predictions. The array contains softmax probabilities for five candidate images with six possible classes. `tk.nn.top_k` is used to choose the three classes with the highest probability:\n",
    "\n",
    "```\n",
    "# (5, 6) array\n",
    "a = np.array([[ 0.24879643,  0.07032244,  0.12641572,  0.34763842,  0.07893497,\n",
    "         0.12789202],\n",
    "       [ 0.28086119,  0.27569815,  0.08594638,  0.0178669 ,  0.18063401,\n",
    "         0.15899337],\n",
    "       [ 0.26076848,  0.23664738,  0.08020603,  0.07001922,  0.1134371 ,\n",
    "         0.23892179],\n",
    "       [ 0.11943333,  0.29198961,  0.02605103,  0.26234032,  0.1351348 ,\n",
    "         0.16505091],\n",
    "       [ 0.09561176,  0.34396535,  0.0643941 ,  0.16240774,  0.24206137,\n",
    "         0.09155967]])\n",
    "```\n",
    "\n",
    "Running it through `sess.run(tf.nn.top_k(tf.constant(a), k=3))` produces:\n",
    "\n",
    "```\n",
    "TopKV2(values=array([[ 0.34763842,  0.24879643,  0.12789202],\n",
    "       [ 0.28086119,  0.27569815,  0.18063401],\n",
    "       [ 0.26076848,  0.23892179,  0.23664738],\n",
    "       [ 0.29198961,  0.26234032,  0.16505091],\n",
    "       [ 0.34396535,  0.24206137,  0.16240774]]), indices=array([[3, 0, 5],\n",
    "       [0, 1, 4],\n",
    "       [0, 5, 1],\n",
    "       [1, 3, 5],\n",
    "       [1, 4, 3]], dtype=int32))\n",
    "```\n",
    "\n",
    "Looking just at the first row we get `[ 0.34763842,  0.24879643,  0.12789202]`, you can confirm these are the 3 largest probabilities in `a`. You'll also notice `[3, 0, 5]` are the corresponding indices."
   ]
  },
  {
   "cell_type": "code",
   "execution_count": null,
   "metadata": {
    "collapsed": false,
    "deletable": true,
    "editable": true
   },
   "outputs": [],
   "source": [
    "### Print out the top five softmax probabilities for the predictions on the German traffic sign images found on the web. \n",
    "### Feel free to use as many code cells as needed.\n",
    "topK_for_later"
   ]
  },
  {
   "cell_type": "markdown",
   "metadata": {
    "deletable": true,
    "editable": true
   },
   "source": [
    "### Note: ### \n",
    "Graphical output of the top 5 probabilites per sign were printed with the results of the prediction [here](#predictions_cell)"
   ]
  },
  {
   "cell_type": "markdown",
   "metadata": {
    "deletable": true,
    "editable": true
   },
   "source": [
    "---\n",
    "\n",
    "## Step 4: Visualize the Neural Network's State with Test Images\n",
    "\n",
    " This Section is not required to complete but acts as an additional excersise for understaning the output of a neural network's weights. While neural networks can be a great learning device they are often referred to as a black box. We can understand what the weights of a neural network look like better by plotting their feature maps. After successfully training your neural network you can see what it's feature maps look like by plotting the output of the network's weight layers in response to a test stimuli image. From these plotted feature maps, it's possible to see what characteristics of an image the network finds interesting. For a sign, maybe the inner network feature maps react with high activation to the sign's boundary outline or to the contrast in the sign's painted symbol.\n",
    "\n",
    " Provided for you below is the function code that allows you to get the visualization output of any tensorflow weight layer you want. The inputs to the function should be a stimuli image, one used during training or a new one you provided, and then the tensorflow variable name that represents the layer's state during the training process, for instance if you wanted to see what the [LeNet lab's](https://classroom.udacity.com/nanodegrees/nd013/parts/fbf77062-5703-404e-b60c-95b78b2f3f9e/modules/6df7ae49-c61c-4bb2-a23e-6527e69209ec/lessons/601ae704-1035-4287-8b11-e2c2716217ad/concepts/d4aca031-508f-4e0b-b493-e7b706120f81) feature maps looked like for it's second convolutional layer you could enter conv2 as the tf_activation variable.\n",
    "\n",
    "For an example of what feature map outputs look like, check out NVIDIA's results in their paper [End-to-End Deep Learning for Self-Driving Cars](https://devblogs.nvidia.com/parallelforall/deep-learning-self-driving-cars/) in the section Visualization of internal CNN State. NVIDIA was able to show that their network's inner weights had high activations to road boundary lines by comparing feature maps from an image with a clear path to one without. Try experimenting with a similar test to show that your trained network's weights are looking for interesting features, whether it's looking at differences in feature maps from images with or without a sign, or even what feature maps look like in a trained network vs a completely untrained one on the same sign image.\n",
    "\n",
    "<figure>\n",
    " <img src=\"visualize_cnn.png\" width=\"380\" alt=\"Combined Image\" />\n",
    " <figcaption>\n",
    " <p></p> \n",
    " <p style=\"text-align: center;\"> Your output should look something like this (above)</p> \n",
    " </figcaption>\n",
    "</figure>\n",
    " <p></p> \n"
   ]
  },
  {
   "cell_type": "code",
   "execution_count": null,
   "metadata": {
    "collapsed": false,
    "deletable": true,
    "editable": true
   },
   "outputs": [],
   "source": [
    "### Visualize your network's feature maps here.\n",
    "### Feel free to use as many code cells as needed.\n",
    "\n",
    "# image_input: the test image being fed into the network to produce the feature maps\n",
    "# tf_activation: should be a tf variable name used during your training procedure that represents the calculated state of a specific weight layer\n",
    "# activation_min/max: can be used to view the activation contrast in more detail, by default matplot sets min and max to the actual min and max values of the output\n",
    "# plt_num: used to plot out multiple different weight feature map sets on the same block, just extend the plt number for each new feature map entry\n",
    "\n",
    "def outputFeatureMap(image_input, tf_activation, activation_min=-1, activation_max=-1 ,plt_num=1, plt_name=\"text\"):\n",
    "    # Here make sure to preprocess your image_input in a way your network expects\n",
    "    # with size, normalization, ect if needed\n",
    "    #image_input = preprocess(image_input)\n",
    "    # Note: x should be the same name as your network's tensorflow data placeholder variable\n",
    "    # If you get an error tf_activation is not defined it maybe having trouble accessing the variable from inside a function\n",
    "    activation = tf_activation.eval(session=sess,feed_dict={x : [image_input]})\n",
    "    featuremaps = activation.shape[3]\n",
    "    plt.figure(plt_num, figsize=(15,15))\n",
    "    for featuremap in range(0, featuremaps):\n",
    "        if featuremap+1 == 8:\n",
    "            break\n",
    "        plt.subplot(1, 8, featuremap+1) # sets the number of feature maps to show on each row and column\n",
    "        plt.title('FeatureMap ' + str(featuremap)) # displays the feature map number\n",
    "        if activation_min != -1 & activation_max != -1:\n",
    "            plt.imshow(activation[0,:,:, featuremap], interpolation=\"nearest\", vmin =activation_min, vmax=activation_max, cmap=\"gray\")\n",
    "        elif activation_max != -1:\n",
    "            plt.imshow(activation[0,:,:, featuremap], interpolation=\"nearest\", vmax=activation_max, cmap=\"gray\")\n",
    "        elif activation_min !=-1:\n",
    "            plt.imshow(activation[0,:,:, featuremap], interpolation=\"nearest\", vmin=activation_min, cmap=\"gray\")\n",
    "        else:\n",
    "            plt.imshow(activation[0,:,:, featuremap], interpolation=\"nearest\", cmap=\"gray\")\n",
    "            \n",
    "    plt.tight_layout()\n",
    "    plt.savefig('./images/visualization_{}.png'.format(plt_name), bbox_inches='tight')\n",
    "    \n",
    "    plt.show()"
   ]
  },
  {
   "cell_type": "code",
   "execution_count": null,
   "metadata": {
    "collapsed": false,
    "deletable": true,
    "editable": true
   },
   "outputs": [],
   "source": [
    "LAYERS"
   ]
  },
  {
   "cell_type": "code",
   "execution_count": null,
   "metadata": {
    "collapsed": false,
    "deletable": true,
    "editable": true
   },
   "outputs": [],
   "source": [
    "testIndex1 = 30074\n",
    "testImage1 = X_train[testIndex1]\n",
    "classId1 = y_train[testIndex1]\n",
    "testIndex2 = 4\n",
    "testImage2 = X_new[testIndex2]\n",
    "classId2 = y_new[testIndex2]\n",
    "plt.figure(figsize=(15,3))\n",
    "plt.subplot(121)\n",
    "plt.title(\"Test image #{} Class:{} {}\".format(testIndex1, classId1, signnames.SignName[classId1]))\n",
    "plt.axis('off')\n",
    "plt.imshow(testImage1.squeeze(), cmap='gray')\n",
    "plt.subplot(122)\n",
    "plt.title(\"Test image #{} Class:{} {}\".format(testIndex2, classId2, labels[str(classId2)]))\n",
    "plt.axis('off')\n",
    "plt.imshow(testImage2.squeeze(), cmap='gray')\n",
    "plt.tight_layout()\n",
    "plt.savefig('./images/visualization_source_images.png', bbox_inches='tight')"
   ]
  },
  {
   "cell_type": "markdown",
   "metadata": {},
   "source": [
    "### Visualize Image"
   ]
  },
  {
   "cell_type": "code",
   "execution_count": null,
   "metadata": {
    "collapsed": false,
    "deletable": true,
    "editable": true
   },
   "outputs": [],
   "source": [
    "lyr = LAYERS.get('conv1')\n",
    "with tf.Session() as sess:\n",
    "    saver.restore(sess, tf.train.latest_checkpoint('./'))\n",
    "    sess.run(lyr, feed_dict={x: [testImage1, testImage2], keep_prob: 1.})\n",
    "    outputFeatureMap(testImage1, lyr, plt_name='conv1_1')\n",
    "    outputFeatureMap(testImage2, lyr, plt_name='conv1_2')"
   ]
  },
  {
   "cell_type": "markdown",
   "metadata": {
    "deletable": true,
    "editable": true
   },
   "source": [
    "> **Note**: Once you have completed all of the code implementations and successfully answered each question above, you may finalize your work by exporting the iPython Notebook as an HTML document. You can do this by using the menu above and navigating to  \\n\",\n",
    "    \"**File -> Download as -> HTML (.html)**. Include the finished document along with this notebook as your submission."
   ]
  },
  {
   "cell_type": "markdown",
   "metadata": {
    "deletable": true,
    "editable": true
   },
   "source": [
    "### Project Writeup\n",
    "\n",
    "Once you have completed the code implementation, document your results in a project writeup using this [template](https://github.com/udacity/CarND-Traffic-Sign-Classifier-Project/blob/master/writeup_template.md) as a guide. The writeup can be in a markdown or pdf file. "
   ]
  }
 ],
 "metadata": {
  "anaconda-cloud": {},
  "kernelspec": {
   "display_name": "Python 3",
   "language": "python",
   "name": "python3"
  },
  "language_info": {
   "codemirror_mode": {
    "name": "ipython",
    "version": 3
   },
   "file_extension": ".py",
   "mimetype": "text/x-python",
   "name": "python",
   "nbconvert_exporter": "python",
   "pygments_lexer": "ipython3",
   "version": "3.5.2"
  },
  "widgets": {
   "state": {},
   "version": "1.1.2"
  }
 },
 "nbformat": 4,
 "nbformat_minor": 1
}
